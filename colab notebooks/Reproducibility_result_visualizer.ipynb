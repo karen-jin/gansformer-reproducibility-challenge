{
 "cells": [
  {
   "cell_type": "markdown",
   "metadata": {
    "id": "BuBXy0g6V_WW"
   },
   "source": [
    "#Image visualization \n",
    "###Stefano Carlo Lambertenghi, Giorgia Aurora Adorni, Felix Boelter"
   ]
  },
  {
   "cell_type": "code",
   "execution_count": 1,
   "metadata": {
    "colab": {
     "base_uri": "https://localhost:8080/"
    },
    "id": "sXVD1F-D0ACc",
    "outputId": "0bc248db-e1a6-42f2-8095-e317d7c87648"
   },
   "outputs": [
    {
     "name": "stdout",
     "output_type": "stream",
     "text": [
      "Cloning into 'gansformer-reproducibility-challenge'...\n",
      "remote: Enumerating objects: 910, done.\u001b[K\n",
      "remote: Counting objects: 100% (144/144), done.\u001b[K\n",
      "remote: Compressing objects: 100% (99/99), done.\u001b[K\n",
      "remote: Total 910 (delta 72), reused 110 (delta 45), pack-reused 766\u001b[K\n",
      "Receiving objects: 100% (910/910), 98.46 MiB | 17.20 MiB/s, done.\n",
      "Resolving deltas: 100% (519/519), done.\n"
     ]
    }
   ],
   "source": [
    "# clone repo\n",
    "!git clone https://github.com/GiorgiaAuroraAdorni/gansformer-reproducibility-challenge.git"
   ]
  },
  {
   "cell_type": "code",
   "execution_count": 9,
   "metadata": {},
   "outputs": [
    {
     "data": {
      "text/plain": [
       "'/Users/karen/Work/Projects/nova77/gansformer-reproducibility-challenge/colab notebooks'"
      ]
     },
     "execution_count": 9,
     "metadata": {},
     "output_type": "execute_result"
    }
   ],
   "source": [
    "%pwd"
   ]
  },
  {
   "cell_type": "code",
   "execution_count": 10,
   "metadata": {
    "colab": {
     "base_uri": "https://localhost:8080/"
    },
    "id": "3AEKMgoafgg1",
    "outputId": "b4554214-f809-418e-c642-bda8dbd50dfc"
   },
   "outputs": [
    {
     "name": "stdout",
     "output_type": "stream",
     "text": [
      "/Users/karen/Work/Projects/nova77/gansformer-reproducibility-challenge/colab notebooks/gansformer-reproducibility-challenge/src\n"
     ]
    }
   ],
   "source": [
    "%cd ./gansformer-reproducibility-challenge/src"
   ]
  },
  {
   "cell_type": "code",
   "execution_count": 13,
   "metadata": {},
   "outputs": [
    {
     "name": "stdout",
     "output_type": "stream",
     "text": [
      "Collecting gdown\n",
      "  Downloading gdown-4.4.0.tar.gz (14 kB)\n",
      "  Installing build dependencies ... \u001b[?25ldone\n",
      "\u001b[?25h  Getting requirements to build wheel ... \u001b[?25ldone\n",
      "\u001b[?25h  Preparing metadata (pyproject.toml) ... \u001b[?25ldone\n",
      "\u001b[?25hRequirement already satisfied: six in /Users/karen/opt/anaconda3/lib/python3.8/site-packages (from gdown) (1.15.0)\n",
      "Requirement already satisfied: requests[socks] in /Users/karen/opt/anaconda3/lib/python3.8/site-packages (from gdown) (2.24.0)\n",
      "Requirement already satisfied: beautifulsoup4 in /Users/karen/opt/anaconda3/lib/python3.8/site-packages (from gdown) (4.9.3)\n",
      "Requirement already satisfied: filelock in /Users/karen/opt/anaconda3/lib/python3.8/site-packages (from gdown) (3.0.12)\n",
      "Requirement already satisfied: tqdm in /Users/karen/opt/anaconda3/lib/python3.8/site-packages (from gdown) (4.50.2)\n",
      "Requirement already satisfied: soupsieve>1.2 in /Users/karen/opt/anaconda3/lib/python3.8/site-packages (from beautifulsoup4->gdown) (2.0.1)\n",
      "Requirement already satisfied: urllib3!=1.25.0,!=1.25.1,<1.26,>=1.21.1 in /Users/karen/opt/anaconda3/lib/python3.8/site-packages (from requests[socks]->gdown) (1.25.11)\n",
      "Requirement already satisfied: chardet<4,>=3.0.2 in /Users/karen/opt/anaconda3/lib/python3.8/site-packages (from requests[socks]->gdown) (3.0.4)\n",
      "Requirement already satisfied: idna<3,>=2.5 in /Users/karen/opt/anaconda3/lib/python3.8/site-packages (from requests[socks]->gdown) (2.10)\n",
      "Requirement already satisfied: certifi>=2017.4.17 in /Users/karen/opt/anaconda3/lib/python3.8/site-packages (from requests[socks]->gdown) (2021.5.30)\n",
      "Requirement already satisfied: PySocks!=1.5.7,>=1.5.6 in /Users/karen/opt/anaconda3/lib/python3.8/site-packages (from requests[socks]->gdown) (1.7.1)\n",
      "Building wheels for collected packages: gdown\n",
      "  Building wheel for gdown (pyproject.toml) ... \u001b[?25ldone\n",
      "\u001b[?25h  Created wheel for gdown: filename=gdown-4.4.0-py3-none-any.whl size=14775 sha256=3921dcd633c1c2e7ad07804e4db612eb67a11844b91fd7f74d30f7afa8223297\n",
      "  Stored in directory: /Users/karen/Library/Caches/pip/wheels/7b/7b/5d/656f46cd6889e4c93977be9586901d0adc1271b2d876c84c96\n",
      "Successfully built gdown\n",
      "Installing collected packages: gdown\n",
      "Successfully installed gdown-4.4.0\n"
     ]
    }
   ],
   "source": [
    "!pip install --upgrade gdown"
   ]
  },
  {
   "cell_type": "code",
   "execution_count": 17,
   "metadata": {},
   "outputs": [
    {
     "name": "stdout",
     "output_type": "stream",
     "text": [
      "Downloading...\n",
      "From: https://drive.google.com/uc?id=1kfJCCS6mUr4brJ2A4ItPAJ6SSvgfOR7l\n",
      "To: /Users/karen/Work/Projects/nova77/gansformer-reproducibility-challenge/colab notebooks/gansformer-reproducibility-challenge/src/Stylegan2_300kimg.pkl\n",
      "100%|████████████████████████████████████████| 323M/323M [00:20<00:00, 16.1MB/s]\n"
     ]
    }
   ],
   "source": [
    "!gdown \"https://drive.google.com/uc?id=1kfJCCS6mUr4brJ2A4ItPAJ6SSvgfOR7l\""
   ]
  },
  {
   "cell_type": "code",
   "execution_count": 18,
   "metadata": {
    "colab": {
     "base_uri": "https://localhost:8080/"
    },
    "id": "f24IfnWIeDWd",
    "outputId": "65bcd0a1-0a10-48e4-a87c-4f779a096d65"
   },
   "outputs": [
    {
     "name": "stdout",
     "output_type": "stream",
     "text": [
      "Downloading...\n",
      "From: https://drive.google.com/uc?id=1-wgviB7sWxeq7hSMpjYKOjIIDasSzbBb\n",
      "To: /Users/karen/Work/Projects/nova77/gansformer-reproducibility-challenge/colab notebooks/gansformer-reproducibility-challenge/src/GANFormer_Simplex_D_StyleGAN_300kimg.pkl\n",
      "100%|████████████████████████████████████████| 348M/348M [00:22<00:00, 15.4MB/s]\n",
      "Downloading...\n",
      "From: https://drive.google.com/uc?id=1G7Dx3YpZmcxIGTdujKoqTrtOoet4IMrQ\n",
      "To: /Users/karen/Work/Projects/nova77/gansformer-reproducibility-challenge/colab notebooks/gansformer-reproducibility-challenge/src/GANFormer_Duplex_D_StyleGAN_300kimg.pkl\n",
      "100%|████████████████████████████████████████| 350M/350M [00:23<00:00, 14.9MB/s]\n",
      "Downloading...\n",
      "From: https://drive.google.com/uc?id=1d2Fp8JLvT9HUHaJDmV8bOnfatg0Sgtjt\n",
      "To: /Users/karen/Work/Projects/nova77/gansformer-reproducibility-challenge/colab notebooks/gansformer-reproducibility-challenge/src/GANFormer_Simplex_D_Attention_300kimgs.pkl\n",
      "100%|████████████████████████████████████████| 349M/349M [00:30<00:00, 11.4MB/s]\n",
      "Downloading...\n",
      "From: https://drive.google.com/uc?id=1hqUtDXiGjip8-BiC_7ELbxthsRgaYjoT\n",
      "To: /Users/karen/Work/Projects/nova77/gansformer-reproducibility-challenge/colab notebooks/gansformer-reproducibility-challenge/src/network-final-Ganformer_duplex_att.pkl\n",
      "100%|████████████████████████████████████████| 340M/340M [00:21<00:00, 15.7MB/s]\n",
      "Downloading...\n",
      "From: https://drive.google.com/uc?id=1AUJexj0tlyklpQkidJVhyiKUp1wbyBg_\n",
      "To: /Users/karen/Work/Projects/nova77/gansformer-reproducibility-challenge/colab notebooks/gansformer-reproducibility-challenge/src/ffhq-network-stylegan2.pkl\n",
      "100%|████████████████████████████████████████| 349M/349M [00:22<00:00, 15.7MB/s]\n",
      "Downloading...\n",
      "From: https://drive.google.com/uc?id=1QYYr6ceT8vs9H2e7Gg-4Cnlkx5emwOJh\n",
      "To: /Users/karen/Work/Projects/nova77/gansformer-reproducibility-challenge/colab notebooks/gansformer-reproducibility-challenge/src/network-snapshot-000300.pkl\n",
      "100%|████████████████████████████████████████| 358M/358M [00:37<00:00, 9.48MB/s]\n",
      "Downloading...\n",
      "From: https://drive.google.com/uc?id=1quE81j-Q5bH0yAqDP4GvTEQyUjAuAQWi\n",
      "To: /Users/karen/Work/Projects/nova77/gansformer-reproducibility-challenge/colab notebooks/gansformer-reproducibility-challenge/src/FFHQ-Duplex_Stylegan_att.pkl\n",
      "100%|████████████████████████████████████████| 359M/359M [00:24<00:00, 14.9MB/s]\n",
      "Downloading...\n",
      "From: https://drive.google.com/uc?id=12AcRCR7sNu2-x73Z33P_VkTB4m5898Gh\n",
      "To: /Users/karen/Work/Projects/nova77/gansformer-reproducibility-challenge/colab notebooks/gansformer-reproducibility-challenge/src/FFHQ-Simplex-Att.pkl\n",
      "100%|████████████████████████████████████████| 358M/358M [00:23<00:00, 15.4MB/s]\n",
      "Downloading...\n",
      "From: https://drive.google.com/uc?id=10koAp_R1ld5YpQUvZw_bdbGLCnfuMYU5\n",
      "To: /Users/karen/Work/Projects/nova77/gansformer-reproducibility-challenge/colab notebooks/gansformer-reproducibility-challenge/src/FFHQ-duplex-att.pkl\n",
      "100%|████████████████████████████████████████| 360M/360M [00:25<00:00, 13.9MB/s]\n"
     ]
    }
   ],
   "source": [
    "# download pretrained models\n",
    "\n",
    "# Google Cartoon Set\n",
    "# stylegan2\n",
    "#!gdown \"https://drive.google.com/uc?id=1kfJCCS6mUr4brJ2A4ItPAJ6SSvgfOR7l\"\n",
    "# ganformer simplex stylegan discriminator\n",
    "!gdown \"https://drive.google.com/uc?id=1-wgviB7sWxeq7hSMpjYKOjIIDasSzbBb\"\n",
    "# ganformer duplex stylegan discriminator\n",
    "!gdown \"https://drive.google.com/uc?id=1G7Dx3YpZmcxIGTdujKoqTrtOoet4IMrQ\"\n",
    "# ganformer simplex attention discriminator\n",
    "!gdown \"https://drive.google.com/uc?id=1d2Fp8JLvT9HUHaJDmV8bOnfatg0Sgtjt\"\n",
    "# ganformer duplex attention discriminator\n",
    "# !gdown https://drive.google.com/uc?id=1lwA-MLkcYVTajUqR-6DZyOwGqd5uwyd-\n",
    "!gdown \"https://drive.google.com/uc?id=1hqUtDXiGjip8-BiC_7ELbxthsRgaYjoT\"\n",
    "\n",
    "# FFHQ\n",
    "# stylegan2\n",
    "!gdown \"https://drive.google.com/uc?id=1AUJexj0tlyklpQkidJVhyiKUp1wbyBg_\"\n",
    "# ganformer simplex stylegan discriminator\n",
    "!gdown \"https://drive.google.com/uc?id=1QYYr6ceT8vs9H2e7Gg-4Cnlkx5emwOJh\"\n",
    "# ganformer duplex stylegan discriminator\n",
    "!gdown \"https://drive.google.com/uc?id=1quE81j-Q5bH0yAqDP4GvTEQyUjAuAQWi\"\n",
    "# ganformer simplex attention discriminator\n",
    "!gdown \"https://drive.google.com/uc?id=12AcRCR7sNu2-x73Z33P_VkTB4m5898Gh\"\n",
    "# ganformer duplex attention discriminator\n",
    "!gdown \"https://drive.google.com/uc?id=10koAp_R1ld5YpQUvZw_bdbGLCnfuMYU5\""
   ]
  },
  {
   "cell_type": "code",
   "execution_count": 30,
   "metadata": {
    "colab": {
     "base_uri": "https://localhost:8080/"
    },
    "id": "nb6BL5ZmhAUb",
    "outputId": "cbfbf6a0-8f55-4dbe-c15d-0b24bee90854"
   },
   "outputs": [
    {
     "name": "stdout",
     "output_type": "stream",
     "text": [
      "Collecting package metadata (current_repodata.json): done\n",
      "Solving environment: failed with initial frozen solve. Retrying with flexible solve.\n",
      "Collecting package metadata (repodata.json): done\n",
      "Solving environment: failed with initial frozen solve. Retrying with flexible solve.\n",
      "\n",
      "PackagesNotFoundError: The following packages are not available from current channels:\n",
      "\n",
      "  - tensorflow-gpu==1.15.3\n",
      "\n",
      "Current channels:\n",
      "\n",
      "  - https://repo.anaconda.com/pkgs/main/osx-64\n",
      "  - https://repo.anaconda.com/pkgs/main/noarch\n",
      "  - https://repo.anaconda.com/pkgs/r/osx-64\n",
      "  - https://repo.anaconda.com/pkgs/r/noarch\n",
      "\n",
      "To search for alternate channels that may provide the conda package you're\n",
      "looking for, navigate to\n",
      "\n",
      "    https://anaconda.org\n",
      "\n",
      "and use the search bar at the top of the page.\n",
      "\n",
      "\n",
      "\n",
      "Note: you may need to restart the kernel to use updated packages.\n"
     ]
    }
   ],
   "source": [
    "# Tensorflow fix for Colab\n",
    "#!pip install tensorflow-gpu==1.15.3\n",
    "%conda install tensorflow-gpu==1.15.3"
   ]
  },
  {
   "cell_type": "code",
   "execution_count": 24,
   "metadata": {},
   "outputs": [
    {
     "name": "stderr",
     "output_type": "stream",
     "text": [
      "UsageError: Line magic function `%tensorflow_version` not found.\n"
     ]
    }
   ],
   "source": [
    "%tensorflow_version 1.x"
   ]
  },
  {
   "cell_type": "code",
   "execution_count": 19,
   "metadata": {
    "colab": {
     "base_uri": "https://localhost:8080/"
    },
    "id": "7GJ_4nLjdzyt",
    "outputId": "55ebd26f-2306-4281-97b1-a31922e7db9b"
   },
   "outputs": [
    {
     "name": "stderr",
     "output_type": "stream",
     "text": [
      "UsageError: Line magic function `%tensorflow_version` not found.\n"
     ]
    }
   ],
   "source": [
    "# Load model\n",
    "\n",
    "\n",
    "\n",
    "%tensorflow_version 1.x\n",
    "import tensorflow as tf\n",
    "\n",
    "%matplotlib inline \n",
    "from matplotlib import pyplot as plt\n",
    "\n",
    "# Download the model of choice\n",
    "import argparse\n",
    "import numpy as np\n",
    "import PIL.Image\n",
    "import dnnlib\n",
    "import dnnlib.tflib as tflib\n",
    "import re\n",
    "import sys\n",
    "from io import BytesIO\n",
    "import IPython.display\n",
    "import numpy as np\n",
    "from math import ceil\n",
    "from PIL import Image, ImageDraw\n",
    "import imageio\n",
    "\n",
    "# Useful utility functions...\n",
    "import cv2\n",
    "import pretrained_networks\n",
    "\n",
    "network_pkl = \"/content/gansformer-reproducibility-challenge/src/GANFormer_Simplex_D_StyleGAN_300kimg.pkl\"\n",
    "network_type = \"ganformer\"\n",
    "\n",
    "print('Loading networks from \"%s\"...' % network_pkl)\n",
    "_G, _D, Gs = pretrained_networks.load_networks(network_pkl)\n",
    "noise_vars = [var for name, var in Gs.components.synthesis.vars.items() if name.startswith('noise')]"
   ]
  },
  {
   "cell_type": "code",
   "execution_count": 6,
   "metadata": {
    "id": "kYoJgkXZdz8T"
   },
   "outputs": [],
   "source": [
    "# Generates a list of images, based on a list of latent vectors (Z), and a list (or a single constant) of truncation_psi's.\n",
    "def generate_images_in_w_space(dlatents, truncation_psi):\n",
    "    Gs_kwargs = dnnlib.EasyDict()\n",
    "    Gs_kwargs.output_transform = dict(func=tflib.convert_images_to_uint8, nchw_to_nhwc=True)\n",
    "    Gs_kwargs.randomize_noise = False\n",
    "    Gs_kwargs.truncation_psi = truncation_psi\n",
    "    dlatent_avg = Gs.get_var('dlatent_avg') # [component]\n",
    "\n",
    "    imgs = []\n",
    "    for row, dlatent in log_progress(enumerate(dlatents), name = \"Generating images\"):\n",
    "        #row_dlatents = (dlatent[np.newaxis] - dlatent_avg) * np.reshape(truncation_psi, [-1, 1, 1]) + dlatent_avg\n",
    "        dl = (dlatent-dlatent_avg)*truncation_psi   + dlatent_avg\n",
    "        row_images = Gs.components.synthesis.run(dlatent,  **Gs_kwargs)\n",
    "        imgs.append(PIL.Image.fromarray(row_images[0], 'RGB'))\n",
    "    return imgs       \n",
    "\n",
    "def generate_images(zs, truncation_psi, network_type):\n",
    "    Gs_kwargs = dnnlib.EasyDict()\n",
    "    if network_type == \"stylegan2\":\n",
    "      Gs_kwargs.output_transform = dict(func=tflib.convert_images_to_uint8, nchw_to_nhwc=True)\n",
    "    Gs_kwargs.randomize_noise = False\n",
    "    if not isinstance(truncation_psi, list):\n",
    "        truncation_psi = [truncation_psi] * len(zs)\n",
    "        \n",
    "    imgs = []\n",
    "    \n",
    "    for z_idx, z in log_progress(enumerate(zs), size = len(zs), name = \"Generating images\"):\n",
    "        Gs_kwargs.truncation_psi = truncation_psi[z_idx]\n",
    "        noise_rnd = np.random.RandomState(1) # fix noise\n",
    "        tflib.set_vars({var: noise_rnd.randn(*var.shape.as_list()) for var in noise_vars}) # [height, width]\n",
    "        \n",
    "        images = Gs.run(z, None, **Gs_kwargs) # [minibatch, height, width, channel]\n",
    "\n",
    "        if network_type == 'ganformer':\n",
    "          res_images = np.transpose((images[0][0, :, :, :]), (1, 2, 0))\n",
    "\n",
    "        elif network_type == 'stylegan2': \n",
    "          res_images = images[0]\n",
    "\n",
    "        else:\n",
    "          raise ValueError('Invalid network_type')\n",
    "\n",
    "        res_images = (res_images - np.min(res_images))/np.ptp(res_images)\n",
    "        imgs.append(res_images)\n",
    "\n",
    "    return imgs\n",
    "\n",
    "def generate_zs_from_seeds(seeds):\n",
    "    zs = []\n",
    "    for seed_idx, seed in enumerate(seeds):\n",
    "        rnd = np.random.RandomState(seed)\n",
    "        z = rnd.randn(1, *Gs.input_shape[1:]) # [minibatch, component]\n",
    "        zs.append(z)\n",
    "    return zs\n",
    "\n",
    "# Generates a list of images, based on a list of seed for latent vectors (Z), and a list (or a single constant) of truncation_psi's.\n",
    "def generate_images_from_seeds(seeds, truncation_psi, network_type):\n",
    "    return generate_images(generate_zs_from_seeds(seeds), truncation_psi, network_type)\n",
    "\n",
    "def saveImgs(imgs, location):\n",
    "  for idx, img in log_progress(enumerate(imgs), size = len(imgs), name=\"Saving images\"):\n",
    "    file = location+ str(idx) + \".png\"\n",
    "    img.save(file)\n",
    "\n",
    "def imshow(a, format='png', jpeg_fallback=True):\n",
    "  a = np.asarray(a, dtype=np.uint8)\n",
    "  str_file = BytesIO()\n",
    "  PIL.Image.fromarray(a).save(str_file, format)\n",
    "  im_data = str_file.getvalue()\n",
    "  try:\n",
    "    disp = IPython.display.display(IPython.display.Image(im_data))\n",
    "  except IOError:\n",
    "    if jpeg_fallback and format != 'jpeg':\n",
    "      print ('Warning: image was too large to display in format \"{}\"; '\n",
    "             'trying jpeg instead.').format(format)\n",
    "      return imshow(a, format='jpeg')\n",
    "    else:\n",
    "      raise\n",
    "  return disp\n",
    "\n",
    "def showarray(a, fmt='png'):\n",
    "    a = np.uint8(a)\n",
    "    f = StringIO()\n",
    "    PIL.Image.fromarray(a).save(f, fmt)\n",
    "    IPython.display.display(IPython.display.Image(data=f.getvalue()))\n",
    "\n",
    "        \n",
    "def clamp(x, minimum, maximum):\n",
    "    return max(minimum, min(x, maximum))\n",
    "    \n",
    "def drawLatent(image,latents,x,y,x2,y2, color=(255,0,0,100)):\n",
    "  buffer = PIL.Image.new('RGBA', image.size, (0,0,0,0))\n",
    "   \n",
    "  draw = ImageDraw.Draw(buffer)\n",
    "  cy = (y+y2)/2\n",
    "  draw.rectangle([x,y,x2,y2],fill=(255,255,255,180), outline=(0,0,0,180))\n",
    "  for i in range(len(latents)):\n",
    "    mx = x + (x2-x)*(float(i)/len(latents))\n",
    "    h = (y2-y)*latents[i]*0.1\n",
    "    h = clamp(h,cy-y2,y2-cy)\n",
    "    draw.line((mx,cy,mx,cy+h),fill=color)\n",
    "  return PIL.Image.alpha_composite(image,buffer)\n",
    "\n",
    "def convertZtoW(latent, truncation_psi=0.7, truncation_cutoff=9):\n",
    "  dlatent = Gs.components.mapping.run(latent, None) # [seed, layer, component]\n",
    "  dlatent_avg = Gs.get_var('dlatent_avg') # [component]\n",
    "  for i in range(truncation_cutoff):\n",
    "    dlatent[0][i] = (dlatent[0][i]-dlatent_avg)*truncation_psi + dlatent_avg\n",
    "    \n",
    "  return dlatent\n",
    "\n",
    "def interpolate(zs, steps):\n",
    "   out = []\n",
    "   for i in range(len(zs)-1):\n",
    "    for index in range(steps):\n",
    "     fraction = index/float(steps) \n",
    "     out.append(zs[i+1]*fraction + zs[i]*(1-fraction))\n",
    "   return out\n",
    "\n",
    "# Taken from https://github.com/alexanderkuk/log-progress\n",
    "def log_progress(sequence, every=1, size=None, name='Items'):\n",
    "    from ipywidgets import IntProgress, HTML, VBox\n",
    "    from IPython.display import display\n",
    "\n",
    "    is_iterator = False\n",
    "    if size is None:\n",
    "        try:\n",
    "            size = len(sequence)\n",
    "        except TypeError:\n",
    "            is_iterator = True\n",
    "    if size is not None:\n",
    "        if every is None:\n",
    "            if size <= 200:\n",
    "                every = 1\n",
    "            else:\n",
    "                every = int(size / 200)     # every 0.5%\n",
    "    else:\n",
    "        assert every is not None, 'sequence is iterator, set every'\n",
    "\n",
    "    if is_iterator:\n",
    "        progress = IntProgress(min=0, max=1, value=1)\n",
    "        progress.bar_style = 'info'\n",
    "    else:\n",
    "        progress = IntProgress(min=0, max=size, value=0)\n",
    "    label = HTML()\n",
    "    box = VBox(children=[label, progress])\n",
    "    display(box)\n",
    "\n",
    "    index = 0\n",
    "    try:\n",
    "        for index, record in enumerate(sequence, 1):\n",
    "            if index == 1 or index % every == 0:\n",
    "                if is_iterator:\n",
    "                    label.value = '{name}: {index} / ?'.format(\n",
    "                        name=name,\n",
    "                        index=index\n",
    "                    )\n",
    "                else:\n",
    "                    progress.value = index\n",
    "                    label.value = u'{name}: {index} / {size}'.format(\n",
    "                        name=name,\n",
    "                        index=index,\n",
    "                        size=size\n",
    "                    )\n",
    "            yield record\n",
    "    except:\n",
    "        progress.bar_style = 'danger'\n",
    "        raise\n",
    "    else:\n",
    "        progress.bar_style = 'success'\n",
    "        progress.value = index\n",
    "        label.value = \"{name}: {index}\".format(\n",
    "            name=name,\n",
    "            index=str(index or '?')\n",
    "        )\n"
   ]
  },
  {
   "cell_type": "code",
   "execution_count": 7,
   "metadata": {
    "colab": {
     "base_uri": "https://localhost:8080/",
     "height": 470,
     "referenced_widgets": [
      "00a160ff89f34c2898ef32e321de7ecb",
      "09afd2e8265848c8bcb8872bb7ab4098",
      "8d42470497084e978b9f65240a21f0cb",
      "2d2bfab07808479a940aba290d58481d",
      "d16d4a3fbfcc4625a7ae4e7677b275a3",
      "af43e3efbb734775bdbb3430c13861d0",
      "f0ecf89f6307426e85cd972192d13f3f",
      "5d7082c659944f68964dfc8454e01065"
     ]
    },
    "id": "f1394LKod0Dd",
    "outputId": "a67dcdc8-3a17-4a8e-838a-5803981c4e35"
   },
   "outputs": [
    {
     "ename": "NameError",
     "evalue": "name 'np' is not defined",
     "output_type": "error",
     "traceback": [
      "\u001b[0;31m---------------------------------------------------------------------------\u001b[0m",
      "\u001b[0;31mNameError\u001b[0m                                 Traceback (most recent call last)",
      "\u001b[0;32m<ipython-input-7-1f280276b138>\u001b[0m in \u001b[0;36m<module>\u001b[0;34m\u001b[0m\n\u001b[1;32m      1\u001b[0m \u001b[0;31m# generate some random seeds\u001b[0m\u001b[0;34m\u001b[0m\u001b[0;34m\u001b[0m\u001b[0;34m\u001b[0m\u001b[0m\n\u001b[0;32m----> 2\u001b[0;31m \u001b[0mseeds\u001b[0m \u001b[0;34m=\u001b[0m \u001b[0mnp\u001b[0m\u001b[0;34m.\u001b[0m\u001b[0mrandom\u001b[0m\u001b[0;34m.\u001b[0m\u001b[0mrandint\u001b[0m\u001b[0;34m(\u001b[0m\u001b[0;36m10000000\u001b[0m\u001b[0;34m,\u001b[0m \u001b[0msize\u001b[0m\u001b[0;34m=\u001b[0m\u001b[0;36m9\u001b[0m\u001b[0;34m)\u001b[0m\u001b[0;34m\u001b[0m\u001b[0;34m\u001b[0m\u001b[0m\n\u001b[0m\u001b[1;32m      3\u001b[0m \u001b[0mprint\u001b[0m\u001b[0;34m(\u001b[0m\u001b[0mseeds\u001b[0m\u001b[0;34m)\u001b[0m\u001b[0;34m\u001b[0m\u001b[0;34m\u001b[0m\u001b[0m\n\u001b[1;32m      4\u001b[0m \u001b[0;34m\u001b[0m\u001b[0m\n\u001b[1;32m      5\u001b[0m \u001b[0;31m# show the seeds\u001b[0m\u001b[0;34m\u001b[0m\u001b[0;34m\u001b[0m\u001b[0;34m\u001b[0m\u001b[0m\n",
      "\u001b[0;31mNameError\u001b[0m: name 'np' is not defined"
     ]
    }
   ],
   "source": [
    "# generate some random seeds\n",
    "seeds = np.random.randint(10000000, size=9)\n",
    "print(seeds)\n",
    "\n",
    "# show the seeds\n",
    "out = generate_images_from_seeds(seeds, 0.7, network_type)\n",
    "\n",
    "if len(out) > 1:\n",
    "\n",
    "  fig, ax = plt.subplots(1, len(seeds), dpi=600)\n",
    "\n",
    "  for l_idx, l in enumerate(out):\n",
    "    ax[l_idx].get_xaxis().set_visible(False)\n",
    "    ax[l_idx].get_yaxis().set_visible(False)\n",
    "    ax[l_idx].imshow(l)\n",
    "\n",
    "elif len(out) == 1:\n",
    "  fig = plt.figure(dpi=600)\n",
    "  ax = plt.gca()\n",
    "\n",
    "  ax.get_xaxis().set_visible(False)\n",
    "  ax.get_yaxis().set_visible(False)\n",
    "  ax.imshow(out[0])\n"
   ]
  },
  {
   "cell_type": "code",
   "execution_count": null,
   "metadata": {
    "colab": {
     "base_uri": "https://localhost:8080/",
     "height": 452,
     "referenced_widgets": [
      "c952f5ee6ddb489fa0bf8b01644ba15b",
      "3ee8b3bd6f6e4d2d8e9644aeefbd9867",
      "8c66e303113941e5bd54c649df337235",
      "fecca4ea883a4030b297f96bd1eb8a7c",
      "2bd10dbe41d0485a910cca107e7f1d80",
      "567fe568a38242d0bf8148c59c7cb497",
      "d8724ed77bf04d228b9828db2212d50c",
      "7d507924122e44c784e9d63a145a2ae6"
     ]
    },
    "id": "27aA6nttd0GZ",
    "outputId": "32f821de-24e4-401c-8045-bee7bb780d9c"
   },
   "outputs": [
    {
     "data": {
      "application/vnd.jupyter.widget-view+json": {
       "model_id": "c952f5ee6ddb489fa0bf8b01644ba15b",
       "version_major": 2,
       "version_minor": 0
      },
      "text/plain": [
       "VBox(children=(HTML(value=''), IntProgress(value=0, max=9)))"
      ]
     },
     "metadata": {},
     "output_type": "display_data"
    },
    {
     "data": {
      "image/png": "[encoded data removed]",
      "text/plain": [
       "<Figure size 3600x2400 with 9 Axes>"
      ]
     },
     "metadata": {
      "needs_background": "light"
     },
     "output_type": "display_data"
    }
   ],
   "source": [
    "# Simple (Z) interpolation\n",
    "\n",
    "# seeds for stylegan2 \n",
    "zs = generate_zs_from_seeds([5015289, 9148088])\n",
    "\n",
    "# seeds for ganformer \n",
    "# zs = generate_zs_from_seeds([1005289, 491088])\n",
    "\n",
    "latent1 = zs[0]\n",
    "latent2 = zs[1]\n",
    "\n",
    "number_of_steps = 9\n",
    "\n",
    "imgs = generate_images(interpolate([latent1,latent2],number_of_steps), 1.0, network_type)\n",
    "\n",
    "fig, ax = plt.subplots(1, len(imgs), dpi=600)\n",
    "for l_idx, l in enumerate(imgs):\n",
    "  ax[l_idx].get_xaxis().set_visible(False)\n",
    "  ax[l_idx].get_yaxis().set_visible(False)\n",
    "  ax[l_idx].imshow(l)"
   ]
  },
  {
   "cell_type": "code",
   "execution_count": null,
   "metadata": {
    "colab": {
     "base_uri": "https://localhost:8080/",
     "height": 145,
     "referenced_widgets": [
      "c9ce76b4450746fea3aca8e637b1f1bb",
      "b12550fef7c34395a797825ac28be28b",
      "dc06ea6fe6d644c9b35a457d16829f49",
      "054a9fc23f7542f09f2b24b3411d9f1c",
      "f9a5d6a2177142e0a9dd8c7a53c0d02c",
      "93ab8e8547ed41579406d8fdbc628e39",
      "1c26edb58c7940f0a9991f77f7ba935b",
      "6f6be3a3f0be44db8dc067f79a4f1b2e",
      "4d25dedd3e59441bac46a41c451e80ce",
      "28201d8a47d546cd940778a320b0184b",
      "2af2a4c12ded4c98a4b50d4821a1b58c",
      "7acd160914af459e8299c185c863df79",
      "3fa0ff13c3cd458880cee305db6d919f",
      "ff570037b8b0403b8cbbb60bcce5466b",
      "3d6cfd37c74f4046a03756ffb6c5590d",
      "6265cc50ec22406d8f7ef19505cdb2c4"
     ]
    },
    "id": "sXOthxCWd0JB",
    "outputId": "f0584270-10ec-4f2a-bd2c-cc9c91cd161c"
   },
   "outputs": [
    {
     "data": {
      "application/vnd.jupyter.widget-view+json": {
       "model_id": "c9ce76b4450746fea3aca8e637b1f1bb",
       "version_major": 2,
       "version_minor": 0
      },
      "text/plain": [
       "VBox(children=(HTML(value=''), IntProgress(value=0, max=600)))"
      ]
     },
     "metadata": {},
     "output_type": "display_data"
    },
    {
     "data": {
      "application/vnd.jupyter.widget-view+json": {
       "model_id": "4d25dedd3e59441bac46a41c451e80ce",
       "version_major": 2,
       "version_minor": 0
      },
      "text/plain": [
       "VBox(children=(HTML(value=''), IntProgress(value=0, max=600)))"
      ]
     },
     "metadata": {},
     "output_type": "display_data"
    }
   ],
   "source": [
    "# generating a MP4 movie\n",
    "from skimage import img_as_ubyte\n",
    "\n",
    "\n",
    "zs = generate_zs_from_seeds([421645,6149575,3487643,3766864 ,3857159,5360657,3720613])\n",
    "\n",
    "number_of_steps = 100\n",
    "imgs = generate_images(interpolate(zs,number_of_steps), 1.0, network_type)\n",
    "# Example of reading a generated set of images, and storing as MP4.\n",
    "%mkdir out\n",
    "movieName = 'out/mov.mp4'\n",
    "with imageio.get_writer(movieName, mode='I') as writer:\n",
    "    for image in log_progress(list(imgs), name = \"Creating animation\"):\n",
    "        writer.append_data(np.array(img_as_ubyte(image)))"
   ]
  },
  {
   "cell_type": "markdown",
   "metadata": {
    "id": "wpVusBTVcPMV"
   },
   "source": [
    "# Projecting images onto the generatable manifold\n"
   ]
  },
  {
   "cell_type": "code",
   "execution_count": null,
   "metadata": {
    "id": "AUvH52OGcO1C"
   },
   "outputs": [],
   "source": [
    "!mkdir projection/out\n",
    "\n",
    "# Now upload a single image to 'stylegan2/projection/imgs' (use the Files side panel). Image should be color PNG, with a size of 6ax64."
   ]
  },
  {
   "cell_type": "code",
   "execution_count": null,
   "metadata": {
    "colab": {
     "base_uri": "https://localhost:8080/"
    },
    "id": "cIjCbO14cTEd",
    "outputId": "ecdcb057-5199-43bf-de70-16278f1b4c7b"
   },
   "outputs": [
    {
     "name": "stdout",
     "output_type": "stream",
     "text": [
      "Loading images from \"./projection/imgs/\"\n",
      "Creating dataset \"./projection/out/\"\n",
      "Added 2 images.\n",
      "(10, 1, 32)\n"
     ]
    }
   ],
   "source": [
    "# Convert uploaded images to TFRecords\n",
    "import dataset_tool\n",
    "from sys import exit\n",
    "dataset_tool.create_from_images(\"./projection/out/\", \"./projection/imgs/\", True)\n",
    "\n",
    "# Run the projector\n",
    "import run_projector\n",
    "import projector\n",
    "import training.dataset\n",
    "import training.misc\n",
    "import os \n",
    "\n",
    "def project_real_images(dataset_name, data_dir, num_images, num_snapshots):\n",
    "    proj = projector.Projector()\n",
    "    proj.num_steps=10000\n",
    "    proj.set_network(Gs,network_architecture = network_type)\n",
    "\n",
    "\n",
    "    print('Loading images from \"%s\"...' % dataset_name)\n",
    "    dataset_obj = training.dataset.load_dataset(data_dir=data_dir, \n",
    "                                                tfrecord_dir=dataset_name, \n",
    "                                                max_label_size=0, \n",
    "                                                verbose=True, \n",
    "                                                repeat=False, \n",
    "                                                shuffle_mb=0)\n",
    "    assert dataset_obj.shape == Gs.output_shape[1:]\n",
    "\n",
    "    for image_idx in range(num_images):\n",
    "        print('Projecting image %d/%d ...' % (image_idx, num_images))\n",
    "        images, _labels = dataset_obj.get_minibatch_np(1)\n",
    "        images = training.misc.adjust_dynamic_range(images, [0, 255], [-1, 1])\n",
    "        run_projector.project_image(proj, \n",
    "                                    targets=images, \n",
    "                                    png_prefix=dnnlib.make_run_dir_path('projection/out/image%04d-' % image_idx), \n",
    "                                    num_snapshots=num_snapshots)\n",
    "\n",
    "project_real_images(\"out\",\"./projection\",1,100)"
   ]
  },
  {
   "cell_type": "code",
   "execution_count": null,
   "metadata": {
    "id": "U-YOLUhtcVTw"
   },
   "outputs": [],
   "source": [
    "# Create video \n",
    "\n",
    "import glob\n",
    "\n",
    "imgs = sorted(glob.glob(\"projection/out/*step*.png\"))\n",
    "\n",
    "target_imgs = sorted(glob.glob(\"projection/out/*target*.png\"))\n",
    "assert len(target_imgs) == 1, \"More than one target found?\"\n",
    "target_img = imageio.imread(target_imgs[0])\n",
    "\n",
    "movieName = \"projection/movie.mp4\"\n",
    "with imageio.get_writer(movieName, mode='I') as writer:\n",
    "    for filename in log_progress(imgs, name = \"Creating animation\"):\n",
    "        image = imageio.imread(filename)\n",
    "\n",
    "        # Concatenate images with original target image\n",
    "        w,h = image.shape[0:2]\n",
    "        canvas = PIL.Image.new('RGBA', (w*2,h), 'white')\n",
    "        canvas.paste(Image.fromarray(target_img), (0, 0))\n",
    "        canvas.paste(Image.fromarray(image), (w, 0))\n",
    "\n",
    "        writer.append_data(np.array(canvas))  "
   ]
  },
  {
   "cell_type": "code",
   "execution_count": null,
   "metadata": {
    "id": "DFqvMa-BcVXI"
   },
   "outputs": [],
   "source": [
    "# Now you can download the video (find it in the Files side panel under 'stylegan2/projection')\n",
    "\n",
    "# To cleanup\n",
    "!rm projection/out/*.*\n",
    "!rm projection/records/*.*\n",
    "!rm projection/imgs/*.*"
   ]
  }
 ],
 "metadata": {
  "accelerator": "GPU",
  "colab": {
   "collapsed_sections": [],
   "name": "Visualisation_GANFormer_plus_Stylegan2.ipynb",
   "provenance": []
  },
  "kernelspec": {
   "display_name": "Python 3",
   "name": "python3"
  },
  "language_info": {
   "codemirror_mode": {
    "name": "ipython",
    "version": 3
   },
   "file_extension": ".py",
   "mimetype": "text/x-python",
   "name": "python",
   "nbconvert_exporter": "python",
   "pygments_lexer": "ipython3",
   "version": "3.8.5"
  },
  "widgets": {
   "application/vnd.jupyter.widget-state+json": {
    "00a160ff89f34c2898ef32e321de7ecb": {
     "model_module": "@jupyter-widgets/controls",
     "model_module_version": "1.5.0",
     "model_name": "VBoxModel",
     "state": {
      "_dom_classes": [],
      "_model_module": "@jupyter-widgets/controls",
      "_model_module_version": "1.5.0",
      "_model_name": "VBoxModel",
      "_view_count": null,
      "_view_module": "@jupyter-widgets/controls",
      "_view_module_version": "1.5.0",
      "_view_name": "VBoxView",
      "box_style": "",
      "children": [
       "IPY_MODEL_8d42470497084e978b9f65240a21f0cb",
       "IPY_MODEL_2d2bfab07808479a940aba290d58481d"
      ],
      "layout": "IPY_MODEL_09afd2e8265848c8bcb8872bb7ab4098"
     }
    },
    "054a9fc23f7542f09f2b24b3411d9f1c": {
     "model_module": "@jupyter-widgets/controls",
     "model_module_version": "1.5.0",
     "model_name": "IntProgressModel",
     "state": {
      "_dom_classes": [],
      "_model_module": "@jupyter-widgets/controls",
      "_model_module_version": "1.5.0",
      "_model_name": "IntProgressModel",
      "_view_count": null,
      "_view_module": "@jupyter-widgets/controls",
      "_view_module_version": "1.5.0",
      "_view_name": "ProgressView",
      "bar_style": "success",
      "description": "",
      "description_tooltip": null,
      "layout": "IPY_MODEL_6f6be3a3f0be44db8dc067f79a4f1b2e",
      "max": 600,
      "min": 0,
      "orientation": "horizontal",
      "style": "IPY_MODEL_1c26edb58c7940f0a9991f77f7ba935b",
      "value": 600
     }
    },
    "09afd2e8265848c8bcb8872bb7ab4098": {
     "model_module": "@jupyter-widgets/base",
     "model_module_version": "1.2.0",
     "model_name": "LayoutModel",
     "state": {
      "_model_module": "@jupyter-widgets/base",
      "_model_module_version": "1.2.0",
      "_model_name": "LayoutModel",
      "_view_count": null,
      "_view_module": "@jupyter-widgets/base",
      "_view_module_version": "1.2.0",
      "_view_name": "LayoutView",
      "align_content": null,
      "align_items": null,
      "align_self": null,
      "border": null,
      "bottom": null,
      "display": null,
      "flex": null,
      "flex_flow": null,
      "grid_area": null,
      "grid_auto_columns": null,
      "grid_auto_flow": null,
      "grid_auto_rows": null,
      "grid_column": null,
      "grid_gap": null,
      "grid_row": null,
      "grid_template_areas": null,
      "grid_template_columns": null,
      "grid_template_rows": null,
      "height": null,
      "justify_content": null,
      "justify_items": null,
      "left": null,
      "margin": null,
      "max_height": null,
      "max_width": null,
      "min_height": null,
      "min_width": null,
      "object_fit": null,
      "object_position": null,
      "order": null,
      "overflow": null,
      "overflow_x": null,
      "overflow_y": null,
      "padding": null,
      "right": null,
      "top": null,
      "visibility": null,
      "width": null
     }
    },
    "1c26edb58c7940f0a9991f77f7ba935b": {
     "model_module": "@jupyter-widgets/controls",
     "model_module_version": "1.5.0",
     "model_name": "ProgressStyleModel",
     "state": {
      "_model_module": "@jupyter-widgets/controls",
      "_model_module_version": "1.5.0",
      "_model_name": "ProgressStyleModel",
      "_view_count": null,
      "_view_module": "@jupyter-widgets/base",
      "_view_module_version": "1.2.0",
      "_view_name": "StyleView",
      "bar_color": null,
      "description_width": ""
     }
    },
    "28201d8a47d546cd940778a320b0184b": {
     "model_module": "@jupyter-widgets/base",
     "model_module_version": "1.2.0",
     "model_name": "LayoutModel",
     "state": {
      "_model_module": "@jupyter-widgets/base",
      "_model_module_version": "1.2.0",
      "_model_name": "LayoutModel",
      "_view_count": null,
      "_view_module": "@jupyter-widgets/base",
      "_view_module_version": "1.2.0",
      "_view_name": "LayoutView",
      "align_content": null,
      "align_items": null,
      "align_self": null,
      "border": null,
      "bottom": null,
      "display": null,
      "flex": null,
      "flex_flow": null,
      "grid_area": null,
      "grid_auto_columns": null,
      "grid_auto_flow": null,
      "grid_auto_rows": null,
      "grid_column": null,
      "grid_gap": null,
      "grid_row": null,
      "grid_template_areas": null,
      "grid_template_columns": null,
      "grid_template_rows": null,
      "height": null,
      "justify_content": null,
      "justify_items": null,
      "left": null,
      "margin": null,
      "max_height": null,
      "max_width": null,
      "min_height": null,
      "min_width": null,
      "object_fit": null,
      "object_position": null,
      "order": null,
      "overflow": null,
      "overflow_x": null,
      "overflow_y": null,
      "padding": null,
      "right": null,
      "top": null,
      "visibility": null,
      "width": null
     }
    },
    "2af2a4c12ded4c98a4b50d4821a1b58c": {
     "model_module": "@jupyter-widgets/controls",
     "model_module_version": "1.5.0",
     "model_name": "HTMLModel",
     "state": {
      "_dom_classes": [],
      "_model_module": "@jupyter-widgets/controls",
      "_model_module_version": "1.5.0",
      "_model_name": "HTMLModel",
      "_view_count": null,
      "_view_module": "@jupyter-widgets/controls",
      "_view_module_version": "1.5.0",
      "_view_name": "HTMLView",
      "description": "",
      "description_tooltip": null,
      "layout": "IPY_MODEL_ff570037b8b0403b8cbbb60bcce5466b",
      "placeholder": "​",
      "style": "IPY_MODEL_3fa0ff13c3cd458880cee305db6d919f",
      "value": "Creating animation: 600"
     }
    },
    "2bd10dbe41d0485a910cca107e7f1d80": {
     "model_module": "@jupyter-widgets/controls",
     "model_module_version": "1.5.0",
     "model_name": "DescriptionStyleModel",
     "state": {
      "_model_module": "@jupyter-widgets/controls",
      "_model_module_version": "1.5.0",
      "_model_name": "DescriptionStyleModel",
      "_view_count": null,
      "_view_module": "@jupyter-widgets/base",
      "_view_module_version": "1.2.0",
      "_view_name": "StyleView",
      "description_width": ""
     }
    },
    "2d2bfab07808479a940aba290d58481d": {
     "model_module": "@jupyter-widgets/controls",
     "model_module_version": "1.5.0",
     "model_name": "IntProgressModel",
     "state": {
      "_dom_classes": [],
      "_model_module": "@jupyter-widgets/controls",
      "_model_module_version": "1.5.0",
      "_model_name": "IntProgressModel",
      "_view_count": null,
      "_view_module": "@jupyter-widgets/controls",
      "_view_module_version": "1.5.0",
      "_view_name": "ProgressView",
      "bar_style": "success",
      "description": "",
      "description_tooltip": null,
      "layout": "IPY_MODEL_5d7082c659944f68964dfc8454e01065",
      "max": 9,
      "min": 0,
      "orientation": "horizontal",
      "style": "IPY_MODEL_f0ecf89f6307426e85cd972192d13f3f",
      "value": 9
     }
    },
    "3d6cfd37c74f4046a03756ffb6c5590d": {
     "model_module": "@jupyter-widgets/controls",
     "model_module_version": "1.5.0",
     "model_name": "ProgressStyleModel",
     "state": {
      "_model_module": "@jupyter-widgets/controls",
      "_model_module_version": "1.5.0",
      "_model_name": "ProgressStyleModel",
      "_view_count": null,
      "_view_module": "@jupyter-widgets/base",
      "_view_module_version": "1.2.0",
      "_view_name": "StyleView",
      "bar_color": null,
      "description_width": ""
     }
    },
    "3ee8b3bd6f6e4d2d8e9644aeefbd9867": {
     "model_module": "@jupyter-widgets/base",
     "model_module_version": "1.2.0",
     "model_name": "LayoutModel",
     "state": {
      "_model_module": "@jupyter-widgets/base",
      "_model_module_version": "1.2.0",
      "_model_name": "LayoutModel",
      "_view_count": null,
      "_view_module": "@jupyter-widgets/base",
      "_view_module_version": "1.2.0",
      "_view_name": "LayoutView",
      "align_content": null,
      "align_items": null,
      "align_self": null,
      "border": null,
      "bottom": null,
      "display": null,
      "flex": null,
      "flex_flow": null,
      "grid_area": null,
      "grid_auto_columns": null,
      "grid_auto_flow": null,
      "grid_auto_rows": null,
      "grid_column": null,
      "grid_gap": null,
      "grid_row": null,
      "grid_template_areas": null,
      "grid_template_columns": null,
      "grid_template_rows": null,
      "height": null,
      "justify_content": null,
      "justify_items": null,
      "left": null,
      "margin": null,
      "max_height": null,
      "max_width": null,
      "min_height": null,
      "min_width": null,
      "object_fit": null,
      "object_position": null,
      "order": null,
      "overflow": null,
      "overflow_x": null,
      "overflow_y": null,
      "padding": null,
      "right": null,
      "top": null,
      "visibility": null,
      "width": null
     }
    },
    "3fa0ff13c3cd458880cee305db6d919f": {
     "model_module": "@jupyter-widgets/controls",
     "model_module_version": "1.5.0",
     "model_name": "DescriptionStyleModel",
     "state": {
      "_model_module": "@jupyter-widgets/controls",
      "_model_module_version": "1.5.0",
      "_model_name": "DescriptionStyleModel",
      "_view_count": null,
      "_view_module": "@jupyter-widgets/base",
      "_view_module_version": "1.2.0",
      "_view_name": "StyleView",
      "description_width": ""
     }
    },
    "4d25dedd3e59441bac46a41c451e80ce": {
     "model_module": "@jupyter-widgets/controls",
     "model_module_version": "1.5.0",
     "model_name": "VBoxModel",
     "state": {
      "_dom_classes": [],
      "_model_module": "@jupyter-widgets/controls",
      "_model_module_version": "1.5.0",
      "_model_name": "VBoxModel",
      "_view_count": null,
      "_view_module": "@jupyter-widgets/controls",
      "_view_module_version": "1.5.0",
      "_view_name": "VBoxView",
      "box_style": "",
      "children": [
       "IPY_MODEL_2af2a4c12ded4c98a4b50d4821a1b58c",
       "IPY_MODEL_7acd160914af459e8299c185c863df79"
      ],
      "layout": "IPY_MODEL_28201d8a47d546cd940778a320b0184b"
     }
    },
    "567fe568a38242d0bf8148c59c7cb497": {
     "model_module": "@jupyter-widgets/base",
     "model_module_version": "1.2.0",
     "model_name": "LayoutModel",
     "state": {
      "_model_module": "@jupyter-widgets/base",
      "_model_module_version": "1.2.0",
      "_model_name": "LayoutModel",
      "_view_count": null,
      "_view_module": "@jupyter-widgets/base",
      "_view_module_version": "1.2.0",
      "_view_name": "LayoutView",
      "align_content": null,
      "align_items": null,
      "align_self": null,
      "border": null,
      "bottom": null,
      "display": null,
      "flex": null,
      "flex_flow": null,
      "grid_area": null,
      "grid_auto_columns": null,
      "grid_auto_flow": null,
      "grid_auto_rows": null,
      "grid_column": null,
      "grid_gap": null,
      "grid_row": null,
      "grid_template_areas": null,
      "grid_template_columns": null,
      "grid_template_rows": null,
      "height": null,
      "justify_content": null,
      "justify_items": null,
      "left": null,
      "margin": null,
      "max_height": null,
      "max_width": null,
      "min_height": null,
      "min_width": null,
      "object_fit": null,
      "object_position": null,
      "order": null,
      "overflow": null,
      "overflow_x": null,
      "overflow_y": null,
      "padding": null,
      "right": null,
      "top": null,
      "visibility": null,
      "width": null
     }
    },
    "5d7082c659944f68964dfc8454e01065": {
     "model_module": "@jupyter-widgets/base",
     "model_module_version": "1.2.0",
     "model_name": "LayoutModel",
     "state": {
      "_model_module": "@jupyter-widgets/base",
      "_model_module_version": "1.2.0",
      "_model_name": "LayoutModel",
      "_view_count": null,
      "_view_module": "@jupyter-widgets/base",
      "_view_module_version": "1.2.0",
      "_view_name": "LayoutView",
      "align_content": null,
      "align_items": null,
      "align_self": null,
      "border": null,
      "bottom": null,
      "display": null,
      "flex": null,
      "flex_flow": null,
      "grid_area": null,
      "grid_auto_columns": null,
      "grid_auto_flow": null,
      "grid_auto_rows": null,
      "grid_column": null,
      "grid_gap": null,
      "grid_row": null,
      "grid_template_areas": null,
      "grid_template_columns": null,
      "grid_template_rows": null,
      "height": null,
      "justify_content": null,
      "justify_items": null,
      "left": null,
      "margin": null,
      "max_height": null,
      "max_width": null,
      "min_height": null,
      "min_width": null,
      "object_fit": null,
      "object_position": null,
      "order": null,
      "overflow": null,
      "overflow_x": null,
      "overflow_y": null,
      "padding": null,
      "right": null,
      "top": null,
      "visibility": null,
      "width": null
     }
    },
    "6265cc50ec22406d8f7ef19505cdb2c4": {
     "model_module": "@jupyter-widgets/base",
     "model_module_version": "1.2.0",
     "model_name": "LayoutModel",
     "state": {
      "_model_module": "@jupyter-widgets/base",
      "_model_module_version": "1.2.0",
      "_model_name": "LayoutModel",
      "_view_count": null,
      "_view_module": "@jupyter-widgets/base",
      "_view_module_version": "1.2.0",
      "_view_name": "LayoutView",
      "align_content": null,
      "align_items": null,
      "align_self": null,
      "border": null,
      "bottom": null,
      "display": null,
      "flex": null,
      "flex_flow": null,
      "grid_area": null,
      "grid_auto_columns": null,
      "grid_auto_flow": null,
      "grid_auto_rows": null,
      "grid_column": null,
      "grid_gap": null,
      "grid_row": null,
      "grid_template_areas": null,
      "grid_template_columns": null,
      "grid_template_rows": null,
      "height": null,
      "justify_content": null,
      "justify_items": null,
      "left": null,
      "margin": null,
      "max_height": null,
      "max_width": null,
      "min_height": null,
      "min_width": null,
      "object_fit": null,
      "object_position": null,
      "order": null,
      "overflow": null,
      "overflow_x": null,
      "overflow_y": null,
      "padding": null,
      "right": null,
      "top": null,
      "visibility": null,
      "width": null
     }
    },
    "6f6be3a3f0be44db8dc067f79a4f1b2e": {
     "model_module": "@jupyter-widgets/base",
     "model_module_version": "1.2.0",
     "model_name": "LayoutModel",
     "state": {
      "_model_module": "@jupyter-widgets/base",
      "_model_module_version": "1.2.0",
      "_model_name": "LayoutModel",
      "_view_count": null,
      "_view_module": "@jupyter-widgets/base",
      "_view_module_version": "1.2.0",
      "_view_name": "LayoutView",
      "align_content": null,
      "align_items": null,
      "align_self": null,
      "border": null,
      "bottom": null,
      "display": null,
      "flex": null,
      "flex_flow": null,
      "grid_area": null,
      "grid_auto_columns": null,
      "grid_auto_flow": null,
      "grid_auto_rows": null,
      "grid_column": null,
      "grid_gap": null,
      "grid_row": null,
      "grid_template_areas": null,
      "grid_template_columns": null,
      "grid_template_rows": null,
      "height": null,
      "justify_content": null,
      "justify_items": null,
      "left": null,
      "margin": null,
      "max_height": null,
      "max_width": null,
      "min_height": null,
      "min_width": null,
      "object_fit": null,
      "object_position": null,
      "order": null,
      "overflow": null,
      "overflow_x": null,
      "overflow_y": null,
      "padding": null,
      "right": null,
      "top": null,
      "visibility": null,
      "width": null
     }
    },
    "7acd160914af459e8299c185c863df79": {
     "model_module": "@jupyter-widgets/controls",
     "model_module_version": "1.5.0",
     "model_name": "IntProgressModel",
     "state": {
      "_dom_classes": [],
      "_model_module": "@jupyter-widgets/controls",
      "_model_module_version": "1.5.0",
      "_model_name": "IntProgressModel",
      "_view_count": null,
      "_view_module": "@jupyter-widgets/controls",
      "_view_module_version": "1.5.0",
      "_view_name": "ProgressView",
      "bar_style": "success",
      "description": "",
      "description_tooltip": null,
      "layout": "IPY_MODEL_6265cc50ec22406d8f7ef19505cdb2c4",
      "max": 600,
      "min": 0,
      "orientation": "horizontal",
      "style": "IPY_MODEL_3d6cfd37c74f4046a03756ffb6c5590d",
      "value": 600
     }
    },
    "7d507924122e44c784e9d63a145a2ae6": {
     "model_module": "@jupyter-widgets/base",
     "model_module_version": "1.2.0",
     "model_name": "LayoutModel",
     "state": {
      "_model_module": "@jupyter-widgets/base",
      "_model_module_version": "1.2.0",
      "_model_name": "LayoutModel",
      "_view_count": null,
      "_view_module": "@jupyter-widgets/base",
      "_view_module_version": "1.2.0",
      "_view_name": "LayoutView",
      "align_content": null,
      "align_items": null,
      "align_self": null,
      "border": null,
      "bottom": null,
      "display": null,
      "flex": null,
      "flex_flow": null,
      "grid_area": null,
      "grid_auto_columns": null,
      "grid_auto_flow": null,
      "grid_auto_rows": null,
      "grid_column": null,
      "grid_gap": null,
      "grid_row": null,
      "grid_template_areas": null,
      "grid_template_columns": null,
      "grid_template_rows": null,
      "height": null,
      "justify_content": null,
      "justify_items": null,
      "left": null,
      "margin": null,
      "max_height": null,
      "max_width": null,
      "min_height": null,
      "min_width": null,
      "object_fit": null,
      "object_position": null,
      "order": null,
      "overflow": null,
      "overflow_x": null,
      "overflow_y": null,
      "padding": null,
      "right": null,
      "top": null,
      "visibility": null,
      "width": null
     }
    },
    "8c66e303113941e5bd54c649df337235": {
     "model_module": "@jupyter-widgets/controls",
     "model_module_version": "1.5.0",
     "model_name": "HTMLModel",
     "state": {
      "_dom_classes": [],
      "_model_module": "@jupyter-widgets/controls",
      "_model_module_version": "1.5.0",
      "_model_name": "HTMLModel",
      "_view_count": null,
      "_view_module": "@jupyter-widgets/controls",
      "_view_module_version": "1.5.0",
      "_view_name": "HTMLView",
      "description": "",
      "description_tooltip": null,
      "layout": "IPY_MODEL_567fe568a38242d0bf8148c59c7cb497",
      "placeholder": "​",
      "style": "IPY_MODEL_2bd10dbe41d0485a910cca107e7f1d80",
      "value": "Generating images: 9"
     }
    },
    "8d42470497084e978b9f65240a21f0cb": {
     "model_module": "@jupyter-widgets/controls",
     "model_module_version": "1.5.0",
     "model_name": "HTMLModel",
     "state": {
      "_dom_classes": [],
      "_model_module": "@jupyter-widgets/controls",
      "_model_module_version": "1.5.0",
      "_model_name": "HTMLModel",
      "_view_count": null,
      "_view_module": "@jupyter-widgets/controls",
      "_view_module_version": "1.5.0",
      "_view_name": "HTMLView",
      "description": "",
      "description_tooltip": null,
      "layout": "IPY_MODEL_af43e3efbb734775bdbb3430c13861d0",
      "placeholder": "​",
      "style": "IPY_MODEL_d16d4a3fbfcc4625a7ae4e7677b275a3",
      "value": "Generating images: 9"
     }
    },
    "93ab8e8547ed41579406d8fdbc628e39": {
     "model_module": "@jupyter-widgets/base",
     "model_module_version": "1.2.0",
     "model_name": "LayoutModel",
     "state": {
      "_model_module": "@jupyter-widgets/base",
      "_model_module_version": "1.2.0",
      "_model_name": "LayoutModel",
      "_view_count": null,
      "_view_module": "@jupyter-widgets/base",
      "_view_module_version": "1.2.0",
      "_view_name": "LayoutView",
      "align_content": null,
      "align_items": null,
      "align_self": null,
      "border": null,
      "bottom": null,
      "display": null,
      "flex": null,
      "flex_flow": null,
      "grid_area": null,
      "grid_auto_columns": null,
      "grid_auto_flow": null,
      "grid_auto_rows": null,
      "grid_column": null,
      "grid_gap": null,
      "grid_row": null,
      "grid_template_areas": null,
      "grid_template_columns": null,
      "grid_template_rows": null,
      "height": null,
      "justify_content": null,
      "justify_items": null,
      "left": null,
      "margin": null,
      "max_height": null,
      "max_width": null,
      "min_height": null,
      "min_width": null,
      "object_fit": null,
      "object_position": null,
      "order": null,
      "overflow": null,
      "overflow_x": null,
      "overflow_y": null,
      "padding": null,
      "right": null,
      "top": null,
      "visibility": null,
      "width": null
     }
    },
    "af43e3efbb734775bdbb3430c13861d0": {
     "model_module": "@jupyter-widgets/base",
     "model_module_version": "1.2.0",
     "model_name": "LayoutModel",
     "state": {
      "_model_module": "@jupyter-widgets/base",
      "_model_module_version": "1.2.0",
      "_model_name": "LayoutModel",
      "_view_count": null,
      "_view_module": "@jupyter-widgets/base",
      "_view_module_version": "1.2.0",
      "_view_name": "LayoutView",
      "align_content": null,
      "align_items": null,
      "align_self": null,
      "border": null,
      "bottom": null,
      "display": null,
      "flex": null,
      "flex_flow": null,
      "grid_area": null,
      "grid_auto_columns": null,
      "grid_auto_flow": null,
      "grid_auto_rows": null,
      "grid_column": null,
      "grid_gap": null,
      "grid_row": null,
      "grid_template_areas": null,
      "grid_template_columns": null,
      "grid_template_rows": null,
      "height": null,
      "justify_content": null,
      "justify_items": null,
      "left": null,
      "margin": null,
      "max_height": null,
      "max_width": null,
      "min_height": null,
      "min_width": null,
      "object_fit": null,
      "object_position": null,
      "order": null,
      "overflow": null,
      "overflow_x": null,
      "overflow_y": null,
      "padding": null,
      "right": null,
      "top": null,
      "visibility": null,
      "width": null
     }
    },
    "b12550fef7c34395a797825ac28be28b": {
     "model_module": "@jupyter-widgets/base",
     "model_module_version": "1.2.0",
     "model_name": "LayoutModel",
     "state": {
      "_model_module": "@jupyter-widgets/base",
      "_model_module_version": "1.2.0",
      "_model_name": "LayoutModel",
      "_view_count": null,
      "_view_module": "@jupyter-widgets/base",
      "_view_module_version": "1.2.0",
      "_view_name": "LayoutView",
      "align_content": null,
      "align_items": null,
      "align_self": null,
      "border": null,
      "bottom": null,
      "display": null,
      "flex": null,
      "flex_flow": null,
      "grid_area": null,
      "grid_auto_columns": null,
      "grid_auto_flow": null,
      "grid_auto_rows": null,
      "grid_column": null,
      "grid_gap": null,
      "grid_row": null,
      "grid_template_areas": null,
      "grid_template_columns": null,
      "grid_template_rows": null,
      "height": null,
      "justify_content": null,
      "justify_items": null,
      "left": null,
      "margin": null,
      "max_height": null,
      "max_width": null,
      "min_height": null,
      "min_width": null,
      "object_fit": null,
      "object_position": null,
      "order": null,
      "overflow": null,
      "overflow_x": null,
      "overflow_y": null,
      "padding": null,
      "right": null,
      "top": null,
      "visibility": null,
      "width": null
     }
    },
    "c952f5ee6ddb489fa0bf8b01644ba15b": {
     "model_module": "@jupyter-widgets/controls",
     "model_module_version": "1.5.0",
     "model_name": "VBoxModel",
     "state": {
      "_dom_classes": [],
      "_model_module": "@jupyter-widgets/controls",
      "_model_module_version": "1.5.0",
      "_model_name": "VBoxModel",
      "_view_count": null,
      "_view_module": "@jupyter-widgets/controls",
      "_view_module_version": "1.5.0",
      "_view_name": "VBoxView",
      "box_style": "",
      "children": [
       "IPY_MODEL_8c66e303113941e5bd54c649df337235",
       "IPY_MODEL_fecca4ea883a4030b297f96bd1eb8a7c"
      ],
      "layout": "IPY_MODEL_3ee8b3bd6f6e4d2d8e9644aeefbd9867"
     }
    },
    "c9ce76b4450746fea3aca8e637b1f1bb": {
     "model_module": "@jupyter-widgets/controls",
     "model_module_version": "1.5.0",
     "model_name": "VBoxModel",
     "state": {
      "_dom_classes": [],
      "_model_module": "@jupyter-widgets/controls",
      "_model_module_version": "1.5.0",
      "_model_name": "VBoxModel",
      "_view_count": null,
      "_view_module": "@jupyter-widgets/controls",
      "_view_module_version": "1.5.0",
      "_view_name": "VBoxView",
      "box_style": "",
      "children": [
       "IPY_MODEL_dc06ea6fe6d644c9b35a457d16829f49",
       "IPY_MODEL_054a9fc23f7542f09f2b24b3411d9f1c"
      ],
      "layout": "IPY_MODEL_b12550fef7c34395a797825ac28be28b"
     }
    },
    "d16d4a3fbfcc4625a7ae4e7677b275a3": {
     "model_module": "@jupyter-widgets/controls",
     "model_module_version": "1.5.0",
     "model_name": "DescriptionStyleModel",
     "state": {
      "_model_module": "@jupyter-widgets/controls",
      "_model_module_version": "1.5.0",
      "_model_name": "DescriptionStyleModel",
      "_view_count": null,
      "_view_module": "@jupyter-widgets/base",
      "_view_module_version": "1.2.0",
      "_view_name": "StyleView",
      "description_width": ""
     }
    },
    "d8724ed77bf04d228b9828db2212d50c": {
     "model_module": "@jupyter-widgets/controls",
     "model_module_version": "1.5.0",
     "model_name": "ProgressStyleModel",
     "state": {
      "_model_module": "@jupyter-widgets/controls",
      "_model_module_version": "1.5.0",
      "_model_name": "ProgressStyleModel",
      "_view_count": null,
      "_view_module": "@jupyter-widgets/base",
      "_view_module_version": "1.2.0",
      "_view_name": "StyleView",
      "bar_color": null,
      "description_width": ""
     }
    },
    "dc06ea6fe6d644c9b35a457d16829f49": {
     "model_module": "@jupyter-widgets/controls",
     "model_module_version": "1.5.0",
     "model_name": "HTMLModel",
     "state": {
      "_dom_classes": [],
      "_model_module": "@jupyter-widgets/controls",
      "_model_module_version": "1.5.0",
      "_model_name": "HTMLModel",
      "_view_count": null,
      "_view_module": "@jupyter-widgets/controls",
      "_view_module_version": "1.5.0",
      "_view_name": "HTMLView",
      "description": "",
      "description_tooltip": null,
      "layout": "IPY_MODEL_93ab8e8547ed41579406d8fdbc628e39",
      "placeholder": "​",
      "style": "IPY_MODEL_f9a5d6a2177142e0a9dd8c7a53c0d02c",
      "value": "Generating images: 600"
     }
    },
    "f0ecf89f6307426e85cd972192d13f3f": {
     "model_module": "@jupyter-widgets/controls",
     "model_module_version": "1.5.0",
     "model_name": "ProgressStyleModel",
     "state": {
      "_model_module": "@jupyter-widgets/controls",
      "_model_module_version": "1.5.0",
      "_model_name": "ProgressStyleModel",
      "_view_count": null,
      "_view_module": "@jupyter-widgets/base",
      "_view_module_version": "1.2.0",
      "_view_name": "StyleView",
      "bar_color": null,
      "description_width": ""
     }
    },
    "f9a5d6a2177142e0a9dd8c7a53c0d02c": {
     "model_module": "@jupyter-widgets/controls",
     "model_module_version": "1.5.0",
     "model_name": "DescriptionStyleModel",
     "state": {
      "_model_module": "@jupyter-widgets/controls",
      "_model_module_version": "1.5.0",
      "_model_name": "DescriptionStyleModel",
      "_view_count": null,
      "_view_module": "@jupyter-widgets/base",
      "_view_module_version": "1.2.0",
      "_view_name": "StyleView",
      "description_width": ""
     }
    },
    "fecca4ea883a4030b297f96bd1eb8a7c": {
     "model_module": "@jupyter-widgets/controls",
     "model_module_version": "1.5.0",
     "model_name": "IntProgressModel",
     "state": {
      "_dom_classes": [],
      "_model_module": "@jupyter-widgets/controls",
      "_model_module_version": "1.5.0",
      "_model_name": "IntProgressModel",
      "_view_count": null,
      "_view_module": "@jupyter-widgets/controls",
      "_view_module_version": "1.5.0",
      "_view_name": "ProgressView",
      "bar_style": "success",
      "description": "",
      "description_tooltip": null,
      "layout": "IPY_MODEL_7d507924122e44c784e9d63a145a2ae6",
      "max": 9,
      "min": 0,
      "orientation": "horizontal",
      "style": "IPY_MODEL_d8724ed77bf04d228b9828db2212d50c",
      "value": 9
     }
    },
    "ff570037b8b0403b8cbbb60bcce5466b": {
     "model_module": "@jupyter-widgets/base",
     "model_module_version": "1.2.0",
     "model_name": "LayoutModel",
     "state": {
      "_model_module": "@jupyter-widgets/base",
      "_model_module_version": "1.2.0",
      "_model_name": "LayoutModel",
      "_view_count": null,
      "_view_module": "@jupyter-widgets/base",
      "_view_module_version": "1.2.0",
      "_view_name": "LayoutView",
      "align_content": null,
      "align_items": null,
      "align_self": null,
      "border": null,
      "bottom": null,
      "display": null,
      "flex": null,
      "flex_flow": null,
      "grid_area": null,
      "grid_auto_columns": null,
      "grid_auto_flow": null,
      "grid_auto_rows": null,
      "grid_column": null,
      "grid_gap": null,
      "grid_row": null,
      "grid_template_areas": null,
      "grid_template_columns": null,
      "grid_template_rows": null,
      "height": null,
      "justify_content": null,
      "justify_items": null,
      "left": null,
      "margin": null,
      "max_height": null,
      "max_width": null,
      "min_height": null,
      "min_width": null,
      "object_fit": null,
      "object_position": null,
      "order": null,
      "overflow": null,
      "overflow_x": null,
      "overflow_y": null,
      "padding": null,
      "right": null,
      "top": null,
      "visibility": null,
      "width": null
     }
    }
   }
  }
 },
 "nbformat": 4,
 "nbformat_minor": 0
}
